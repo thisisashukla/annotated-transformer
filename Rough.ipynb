{
 "cells": [
  {
   "cell_type": "code",
   "execution_count": null,
   "id": "884b0813",
   "metadata": {},
   "outputs": [],
   "source": [
    "!pip install torchtext"
   ]
  },
  {
   "cell_type": "code",
   "execution_count": null,
   "id": "0da1bbd6",
   "metadata": {},
   "outputs": [],
   "source": [
    "!pip install spacy"
   ]
  },
  {
   "cell_type": "code",
   "execution_count": null,
   "id": "8f6c8d0f",
   "metadata": {},
   "outputs": [],
   "source": [
    "!python -m spacy download fr_core_news_sm"
   ]
  },
  {
   "cell_type": "code",
   "execution_count": null,
   "id": "443c76fc",
   "metadata": {},
   "outputs": [],
   "source": [
    "!python -m spacy download en_core_web_sm"
   ]
  },
  {
   "cell_type": "code",
   "execution_count": null,
   "id": "09ae9df2",
   "metadata": {},
   "outputs": [],
   "source": [
    "# import pandas as pd\n",
    "# train = pd.read_csv('data/train.csv')\n",
    "# val = pd.read_csv('data/val.csv')"
   ]
  },
  {
   "cell_type": "code",
   "execution_count": null,
   "id": "763af625",
   "metadata": {},
   "outputs": [],
   "source": [
    "# train.sample(100).to_csv('data/train_.csv', index = False)\n",
    "# val.sample(100).to_csv('data/val_.csv', index = False)"
   ]
  },
  {
   "cell_type": "code",
   "execution_count": 1,
   "id": "ebcc668e",
   "metadata": {},
   "outputs": [
    {
     "name": "stdout",
     "output_type": "stream",
     "text": [
      "h\n",
      "exists\n",
      "creating dataset\n",
      "2\n",
      "a\n"
     ]
    },
    {
     "name": "stderr",
     "output_type": "stream",
     "text": [
      "/home/ec2-user/anaconda3/envs/pytorch_latest_p36/lib/python3.6/site-packages/torch/nn/_reduction.py:42: UserWarning: size_average and reduce args will be deprecated, please use reduction='sum' instead.\n",
      "  warnings.warn(warning.format(ret))\n"
     ]
    },
    {
     "name": "stdout",
     "output_type": "stream",
     "text": [
      "tensor(6.7191)\n",
      "tensor(6.5398)\n",
      "tensor(6.2175)\n",
      "tensor(5.7570)\n",
      "tensor(5.1733)\n",
      "tensor(4.4981)\n",
      "tensor(3.7915)\n",
      "tensor(3.1667)\n",
      "tensor(2.7913)\n",
      "tensor(2.7249)\n"
     ]
    }
   ],
   "source": [
    "%run ./src/main.py"
   ]
  },
  {
   "cell_type": "code",
   "execution_count": null,
   "id": "5b9f9cd0",
   "metadata": {},
   "outputs": [],
   "source": [
    "from src import main"
   ]
  },
  {
   "cell_type": "code",
   "execution_count": null,
   "id": "0f5fa849",
   "metadata": {},
   "outputs": [],
   "source": []
  }
 ],
 "metadata": {
  "kernelspec": {
   "display_name": "conda_pytorch_latest_p36",
   "language": "python",
   "name": "conda_pytorch_latest_p36"
  },
  "language_info": {
   "codemirror_mode": {
    "name": "ipython",
    "version": 3
   },
   "file_extension": ".py",
   "mimetype": "text/x-python",
   "name": "python",
   "nbconvert_exporter": "python",
   "pygments_lexer": "ipython3",
   "version": "3.6.13"
  }
 },
 "nbformat": 4,
 "nbformat_minor": 5
}
